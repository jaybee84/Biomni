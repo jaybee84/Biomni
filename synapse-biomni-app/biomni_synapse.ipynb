{
 "cells": [
  {
   "cell_type": "markdown",
   "metadata": {},
   "source": [
    "## Biomni 101"
   ]
  },
  {
   "cell_type": "markdown",
   "metadata": {},
   "source": [
    "Welcome to Biomni! Here is a simple tutorial on the basics of Biomni package. After you installed the environment, you can then simply try this to initialize the agent, which will automatically download the raw data lake files:"
   ]
  },
  {
   "cell_type": "markdown",
   "metadata": {},
   "source": [
    "### API Key Setup\n",
    "\n",
    "Before using the Biomni agent, you need to configure your Anthropic API key for Claude. You can:\n",
    "\n",
    "1. **Get an API key**: Visit [Anthropic Console](https://console.anthropic.com/) to create an account and get your API key\n",
    "2. **Set up authentication**: Use one of the methods in the cell below to configure your API key\n",
    "3. **Security**: For production use, store your API key in a `.env` file or environment variable rather than hardcoding it"
   ]
  },
  {
   "cell_type": "code",
   "execution_count": 1,
   "metadata": {},
   "outputs": [
    {
     "name": "stdout",
     "output_type": "stream",
     "text": [
      "✓ API key configured\n"
     ]
    }
   ],
   "source": [
    "# Set up your Anthropic API key\n",
    "import os\n",
    "\n",
    "# Option 1: Set your API key directly (not recommended for production)\n",
    "# os.environ[\"ANTHROPIC_API_KEY\"] = \"your-api-key-here\"\n",
    "\n",
    "# Option 2: Load from a .env file (recommended)\n",
    "# Create a .env file in your project directory with: ANTHROPIC_API_KEY=your-api-key-here\n",
    "from dotenv import load_dotenv\n",
    "load_dotenv()\n",
    "\n",
    "# Option 3: Use getpass for secure input\n",
    "import getpass\n",
    "if \"ANTHROPIC_API_KEY\" not in os.environ:\n",
    "    api_key = getpass.getpass(\"Enter your Anthropic API key: \")\n",
    "    os.environ[\"ANTHROPIC_API_KEY\"] = api_key\n",
    "    \n",
    "print(\"✓ API key configured\")"
   ]
  },
  {
   "cell_type": "code",
   "execution_count": 2,
   "metadata": {},
   "outputs": [
    {
     "name": "stdout",
     "output_type": "stream",
     "text": [
      "Checking and downloading missing data lake files...\n",
      "✓ Agent created with API key configured\n"
     ]
    }
   ],
   "source": [
    "# Now create the agent with the API key configured\n",
    "import sys\n",
    "sys.path.append(\"../\")\n",
    "\n",
    "from biomni.agent import A1\n",
    "\n",
    "agent = A1(path=\"~/biomni_data_test\", llm=\"claude-sonnet-4-20250514\")\n",
    "print(\"✓ Agent created with API key configured\")"
   ]
  },
  {
   "cell_type": "markdown",
   "metadata": {},
   "source": [
    "Then, you can simply start prompting the agent with the desired biomedical research task!"
   ]
  },
  {
   "cell_type": "code",
   "execution_count": 4,
   "metadata": {},
   "outputs": [
    {
     "name": "stdout",
     "output_type": "stream",
     "text": [
      "Welcome, Jineta Banerjee! You are using the 'biomni-agent-test' profile.\n"
     ]
    }
   ],
   "source": [
    "import synapseclient\n",
    "syn = synapseclient.login(profile=\"biomni-agent-test\")\n",
    "import synapseutils\n",
    "#e = syn.get(\"syn52663091\", downloadLocation=\"/home/ec2-user/Biomni/tutorials\")"
   ]
  },
  {
   "cell_type": "code",
   "execution_count": null,
   "metadata": {},
   "outputs": [],
   "source": [
    "log = agent.go(\"\"\"Login to synapse.org using the synapse python client and synapseutils in your environment and with profile \"biomni-agent-test\" and download entity ID syn52663091 to the current directory. Do not print out any of the login credentials into the logs. Then review the file and generate a boxplot of the top 10 highly expressed genes in the file. Then tell me if I can use this dataset to find drug response for MPNST tumors\"\"\")"
   ]
  }
 ],
 "metadata": {
  "kernelspec": {
   "display_name": "biomni_e1",
   "language": "python",
   "name": "python3"
  },
  "language_info": {
   "codemirror_mode": {
    "name": "ipython",
    "version": 3
   },
   "file_extension": ".py",
   "mimetype": "text/x-python",
   "name": "python",
   "nbconvert_exporter": "python",
   "pygments_lexer": "ipython3",
   "version": "3.11.13"
  }
 },
 "nbformat": 4,
 "nbformat_minor": 2
}
